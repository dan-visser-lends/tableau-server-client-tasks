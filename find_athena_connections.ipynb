{
 "cells": [
  {
   "cell_type": "code",
   "execution_count": 1,
   "metadata": {},
   "outputs": [],
   "source": [
    "import psycopg2\n",
    "import logging\n",
    "import pandas as pd"
   ]
  },
  {
   "cell_type": "code",
   "execution_count": 28,
   "metadata": {},
   "outputs": [],
   "source": [
    "logger = logging.getLogger()\n",
    "\n",
    "conn = None\n",
    "try:\n",
    "    conn = psycopg2.connect(host=\"tableau.lendingworks.co.uk\",\n",
    "                            port=8060,\n",
    "                            database=\"workgroup\",\n",
    "                            user=\"readonly\",\n",
    "                            password=\"HWWwZGmFCN7ikoN98hirG9kBbBVHpr66yHNfBqAmY6oW9DXkYy\")\n",
    "\n",
    "    curr = conn.cursor()\n",
    "\n",
    "    query = \"\\\n",
    "        SELECT\\\n",
    "            d.server,\\\n",
    "            d.has_extract,\\\n",
    "            w.name,\\\n",
    "            s.name,\\\n",
    "            p.name\\\n",
    "        FROM\\\n",
    "            public.data_connections d\\\n",
    "        JOIN\\\n",
    "            public.workbooks w\\\n",
    "        ON\\\n",
    "            w.id = d.owner_id\\\n",
    "        JOIN\\\n",
    "            public.projects p\\\n",
    "        ON\\\n",
    "            w.project_id = p.id\\\n",
    "        JOIN\\\n",
    "            public.users u\\\n",
    "        ON\\\n",
    "            u.id = w.owner_id\\\n",
    "        JOIN\\\n",
    "            public.system_users s\\\n",
    "        ON\\\n",
    "            S.id = U.system_user_id;\"   \n",
    "\n",
    "    curr.execute(query)\n",
    "    conn.commit()\n",
    "\n",
    "    df = pd.DataFrame(curr.fetchall(), columns=[desc[0] for desc in curr.description])\n",
    "\n",
    "\n",
    "except Exception as error: \n",
    "    logger.error(f\"Error while connecting to server repositry. {error}\")\n",
    "    logger.error(error, exc_info=True)\n",
    "\n",
    "finally:\n",
    "    if conn:  \n",
    "        curr.close()\n",
    "        conn.close()"
   ]
  },
  {
   "cell_type": "code",
   "execution_count": 37,
   "metadata": {},
   "outputs": [],
   "source": [
    "wokrbooks = df[(df[\"server\"]==\"jdbc:awsathena://AwsRegion=eu-west-1;\")&(df[\"has_extract\"]==True)][[\"name\"]]\n",
    "\n",
    "wokrbooks.columns.values[0] = \"Workbook\"\n",
    "wokrbooks.columns.values[1] = \"Workbook Owner\"\n",
    "wokrbooks.columns.values[2] = \"Project (folder)\"\n",
    "wokrbooks[\"Data Source Server\"] = df[(df[\"server\"]==\"jdbc:awsathena://AwsRegion=eu-west-1;\")&(df[\"has_extract\"]==True)][[\"server\"]]"
   ]
  },
  {
   "cell_type": "code",
   "execution_count": 42,
   "metadata": {},
   "outputs": [],
   "source": [
    "wokrbooks.drop_duplicates().to_csv(\"Workbooks_with_athena_connection.csv\", index = False)\n"
   ]
  }
 ],
 "metadata": {
  "kernelspec": {
   "display_name": "Python 3.9.12 ('tableau_admin')",
   "language": "python",
   "name": "python3"
  },
  "language_info": {
   "codemirror_mode": {
    "name": "ipython",
    "version": 3
   },
   "file_extension": ".py",
   "mimetype": "text/x-python",
   "name": "python",
   "nbconvert_exporter": "python",
   "pygments_lexer": "ipython3",
   "version": "3.9.12"
  },
  "orig_nbformat": 4,
  "vscode": {
   "interpreter": {
    "hash": "04c9d589b23ff3290983d650592eda4ecb0965970df4ac94d7598118eabdb03a"
   }
  }
 },
 "nbformat": 4,
 "nbformat_minor": 2
}
